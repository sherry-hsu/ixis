{
 "cells": [
  {
   "cell_type": "markdown",
   "metadata": {},
   "source": [
    "### import libraries and load data"
   ]
  },
  {
   "cell_type": "code",
   "execution_count": 1,
   "metadata": {},
   "outputs": [],
   "source": [
    "import numpy as np\n",
    "import pandas as pd "
   ]
  },
  {
   "cell_type": "code",
   "execution_count": 2,
   "metadata": {},
   "outputs": [],
   "source": [
    "cart = pd.read_csv(\"DataAnalyst_Ecom_data_addsToCart.csv\")\n",
    "session = pd.read_csv(\"DataAnalyst_Ecom_data_sessionCounts.csv\")"
   ]
  },
  {
   "cell_type": "markdown",
   "metadata": {},
   "source": [
    "### Sheet 1"
   ]
  },
  {
   "cell_type": "code",
   "execution_count": 3,
   "metadata": {},
   "outputs": [
    {
     "data": {
      "text/html": [
       "<div>\n",
       "<style scoped>\n",
       "    .dataframe tbody tr th:only-of-type {\n",
       "        vertical-align: middle;\n",
       "    }\n",
       "\n",
       "    .dataframe tbody tr th {\n",
       "        vertical-align: top;\n",
       "    }\n",
       "\n",
       "    .dataframe thead th {\n",
       "        text-align: right;\n",
       "    }\n",
       "</style>\n",
       "<table border=\"1\" class=\"dataframe\">\n",
       "  <thead>\n",
       "    <tr style=\"text-align: right;\">\n",
       "      <th></th>\n",
       "      <th></th>\n",
       "      <th>sessions</th>\n",
       "      <th>transactions</th>\n",
       "      <th>QTY</th>\n",
       "      <th>ECR</th>\n",
       "    </tr>\n",
       "    <tr>\n",
       "      <th>dim_date</th>\n",
       "      <th>dim_deviceCategory</th>\n",
       "      <th></th>\n",
       "      <th></th>\n",
       "      <th></th>\n",
       "      <th></th>\n",
       "    </tr>\n",
       "  </thead>\n",
       "  <tbody>\n",
       "    <tr>\n",
       "      <th rowspan=\"3\" valign=\"top\">1/1/13</th>\n",
       "      <th>desktop</th>\n",
       "      <td>4773</td>\n",
       "      <td>182</td>\n",
       "      <td>304</td>\n",
       "      <td>0.038131</td>\n",
       "    </tr>\n",
       "    <tr>\n",
       "      <th>mobile</th>\n",
       "      <td>4070</td>\n",
       "      <td>22</td>\n",
       "      <td>67</td>\n",
       "      <td>0.005405</td>\n",
       "    </tr>\n",
       "    <tr>\n",
       "      <th>tablet</th>\n",
       "      <td>1892</td>\n",
       "      <td>22</td>\n",
       "      <td>29</td>\n",
       "      <td>0.011628</td>\n",
       "    </tr>\n",
       "    <tr>\n",
       "      <th rowspan=\"2\" valign=\"top\">1/10/13</th>\n",
       "      <th>desktop</th>\n",
       "      <td>9277</td>\n",
       "      <td>282</td>\n",
       "      <td>612</td>\n",
       "      <td>0.030398</td>\n",
       "    </tr>\n",
       "    <tr>\n",
       "      <th>mobile</th>\n",
       "      <td>26404</td>\n",
       "      <td>296</td>\n",
       "      <td>535</td>\n",
       "      <td>0.011210</td>\n",
       "    </tr>\n",
       "    <tr>\n",
       "      <th>...</th>\n",
       "      <th>...</th>\n",
       "      <td>...</td>\n",
       "      <td>...</td>\n",
       "      <td>...</td>\n",
       "      <td>...</td>\n",
       "    </tr>\n",
       "    <tr>\n",
       "      <th rowspan=\"2\" valign=\"top\">9/8/12</th>\n",
       "      <th>mobile</th>\n",
       "      <td>5455</td>\n",
       "      <td>62</td>\n",
       "      <td>92</td>\n",
       "      <td>0.011366</td>\n",
       "    </tr>\n",
       "    <tr>\n",
       "      <th>tablet</th>\n",
       "      <td>1861</td>\n",
       "      <td>24</td>\n",
       "      <td>21</td>\n",
       "      <td>0.012896</td>\n",
       "    </tr>\n",
       "    <tr>\n",
       "      <th rowspan=\"3\" valign=\"top\">9/9/12</th>\n",
       "      <th>desktop</th>\n",
       "      <td>8192</td>\n",
       "      <td>164</td>\n",
       "      <td>333</td>\n",
       "      <td>0.020020</td>\n",
       "    </tr>\n",
       "    <tr>\n",
       "      <th>mobile</th>\n",
       "      <td>224</td>\n",
       "      <td>3</td>\n",
       "      <td>11</td>\n",
       "      <td>0.013393</td>\n",
       "    </tr>\n",
       "    <tr>\n",
       "      <th>tablet</th>\n",
       "      <td>2913</td>\n",
       "      <td>42</td>\n",
       "      <td>44</td>\n",
       "      <td>0.014418</td>\n",
       "    </tr>\n",
       "  </tbody>\n",
       "</table>\n",
       "<p>1095 rows × 4 columns</p>\n",
       "</div>"
      ],
      "text/plain": [
       "                             sessions  transactions  QTY       ECR\n",
       "dim_date dim_deviceCategory                                       \n",
       "1/1/13   desktop                 4773           182  304  0.038131\n",
       "         mobile                  4070            22   67  0.005405\n",
       "         tablet                  1892            22   29  0.011628\n",
       "1/10/13  desktop                 9277           282  612  0.030398\n",
       "         mobile                 26404           296  535  0.011210\n",
       "...                               ...           ...  ...       ...\n",
       "9/8/12   mobile                  5455            62   92  0.011366\n",
       "         tablet                  1861            24   21  0.012896\n",
       "9/9/12   desktop                 8192           164  333  0.020020\n",
       "         mobile                   224             3   11  0.013393\n",
       "         tablet                  2913            42   44  0.014418\n",
       "\n",
       "[1095 rows x 4 columns]"
      ]
     },
     "execution_count": 3,
     "metadata": {},
     "output_type": "execute_result"
    }
   ],
   "source": [
    "month_device = session.groupby([\"dim_date\", \"dim_deviceCategory\"]).sum()\n",
    "month_device['ECR'] = month_device['transactions'] / month_device['sessions'] \n",
    "month_device"
   ]
  },
  {
   "cell_type": "markdown",
   "metadata": {},
   "source": [
    "### Sheet 2"
   ]
  },
  {
   "cell_type": "markdown",
   "metadata": {},
   "source": [
    "Getting the 2 most recent months of data and get the total of each field during the period (for session)"
   ]
  },
  {
   "cell_type": "code",
   "execution_count": 4,
   "metadata": {},
   "outputs": [
    {
     "data": {
      "text/html": [
       "<div>\n",
       "<style scoped>\n",
       "    .dataframe tbody tr th:only-of-type {\n",
       "        vertical-align: middle;\n",
       "    }\n",
       "\n",
       "    .dataframe tbody tr th {\n",
       "        vertical-align: top;\n",
       "    }\n",
       "\n",
       "    .dataframe thead th {\n",
       "        text-align: right;\n",
       "    }\n",
       "</style>\n",
       "<table border=\"1\" class=\"dataframe\">\n",
       "  <thead>\n",
       "    <tr style=\"text-align: right;\">\n",
       "      <th></th>\n",
       "      <th>dim_year</th>\n",
       "      <th>dim_month</th>\n",
       "      <th>addsToCart</th>\n",
       "    </tr>\n",
       "  </thead>\n",
       "  <tbody>\n",
       "    <tr>\n",
       "      <th>10</th>\n",
       "      <td>2013</td>\n",
       "      <td>5</td>\n",
       "      <td>136720</td>\n",
       "    </tr>\n",
       "    <tr>\n",
       "      <th>11</th>\n",
       "      <td>2013</td>\n",
       "      <td>6</td>\n",
       "      <td>107970</td>\n",
       "    </tr>\n",
       "  </tbody>\n",
       "</table>\n",
       "</div>"
      ],
      "text/plain": [
       "    dim_year  dim_month  addsToCart\n",
       "10      2013          5      136720\n",
       "11      2013          6      107970"
      ]
     },
     "execution_count": 4,
     "metadata": {},
     "output_type": "execute_result"
    }
   ],
   "source": [
    "cart2month = cart[cart['dim_year'] == cart['dim_year'].max()]\n",
    "cart2month = cart2month[cart2month['dim_month'].isin(pd.Series(pd.unique(cart2month['dim_month'])).nlargest(2))]\n",
    "cart2month"
   ]
  },
  {
   "cell_type": "code",
   "execution_count": 5,
   "metadata": {},
   "outputs": [
    {
     "data": {
      "text/html": [
       "<div>\n",
       "<style scoped>\n",
       "    .dataframe tbody tr th:only-of-type {\n",
       "        vertical-align: middle;\n",
       "    }\n",
       "\n",
       "    .dataframe tbody tr th {\n",
       "        vertical-align: top;\n",
       "    }\n",
       "\n",
       "    .dataframe thead th {\n",
       "        text-align: right;\n",
       "    }\n",
       "</style>\n",
       "<table border=\"1\" class=\"dataframe\">\n",
       "  <thead>\n",
       "    <tr style=\"text-align: right;\">\n",
       "      <th></th>\n",
       "      <th></th>\n",
       "      <th>sessions</th>\n",
       "      <th>transactions</th>\n",
       "      <th>QTY</th>\n",
       "    </tr>\n",
       "    <tr>\n",
       "      <th>dim_year</th>\n",
       "      <th>dim_month</th>\n",
       "      <th></th>\n",
       "      <th></th>\n",
       "      <th></th>\n",
       "    </tr>\n",
       "  </thead>\n",
       "  <tbody>\n",
       "    <tr>\n",
       "      <th rowspan=\"2\" valign=\"top\">2013</th>\n",
       "      <th>5</th>\n",
       "      <td>1164639</td>\n",
       "      <td>28389</td>\n",
       "      <td>51629</td>\n",
       "    </tr>\n",
       "    <tr>\n",
       "      <th>6</th>\n",
       "      <td>1388834</td>\n",
       "      <td>34538</td>\n",
       "      <td>61891</td>\n",
       "    </tr>\n",
       "  </tbody>\n",
       "</table>\n",
       "</div>"
      ],
      "text/plain": [
       "                    sessions  transactions    QTY\n",
       "dim_year dim_month                               \n",
       "2013     5           1164639         28389  51629\n",
       "         6           1388834         34538  61891"
      ]
     },
     "execution_count": 5,
     "metadata": {},
     "output_type": "execute_result"
    }
   ],
   "source": [
    "session['dim_year'] = pd.to_datetime(session['dim_date']).dt.year\n",
    "session['dim_month'] = pd.to_datetime(session['dim_date']).dt.month\n",
    "session2month = session[session['dim_year'] == session['dim_year'].max()]\n",
    "session2month = session2month[session2month['dim_month'].isin(pd.Series(pd.unique(session2month['dim_month'])).nlargest(2))]\n",
    "session2month = session2month.groupby([\"dim_year\", \"dim_month\"]).sum()\n",
    "session2month"
   ]
  },
  {
   "cell_type": "markdown",
   "metadata": {},
   "source": [
    "Merge the cart and session table"
   ]
  },
  {
   "cell_type": "code",
   "execution_count": 6,
   "metadata": {},
   "outputs": [
    {
     "data": {
      "text/html": [
       "<div>\n",
       "<style scoped>\n",
       "    .dataframe tbody tr th:only-of-type {\n",
       "        vertical-align: middle;\n",
       "    }\n",
       "\n",
       "    .dataframe tbody tr th {\n",
       "        vertical-align: top;\n",
       "    }\n",
       "\n",
       "    .dataframe thead th {\n",
       "        text-align: right;\n",
       "    }\n",
       "</style>\n",
       "<table border=\"1\" class=\"dataframe\">\n",
       "  <thead>\n",
       "    <tr style=\"text-align: right;\">\n",
       "      <th></th>\n",
       "      <th>dim_month</th>\n",
       "      <th>dim_year</th>\n",
       "      <th>sessions</th>\n",
       "      <th>transactions</th>\n",
       "      <th>QTY</th>\n",
       "      <th>addsToCart</th>\n",
       "    </tr>\n",
       "  </thead>\n",
       "  <tbody>\n",
       "    <tr>\n",
       "      <th>0</th>\n",
       "      <td>5</td>\n",
       "      <td>2013</td>\n",
       "      <td>1164639</td>\n",
       "      <td>28389</td>\n",
       "      <td>51629</td>\n",
       "      <td>136720</td>\n",
       "    </tr>\n",
       "    <tr>\n",
       "      <th>1</th>\n",
       "      <td>6</td>\n",
       "      <td>2013</td>\n",
       "      <td>1388834</td>\n",
       "      <td>34538</td>\n",
       "      <td>61891</td>\n",
       "      <td>107970</td>\n",
       "    </tr>\n",
       "  </tbody>\n",
       "</table>\n",
       "</div>"
      ],
      "text/plain": [
       "   dim_month  dim_year  sessions  transactions    QTY  addsToCart\n",
       "0          5      2013   1164639         28389  51629      136720\n",
       "1          6      2013   1388834         34538  61891      107970"
      ]
     },
     "execution_count": 6,
     "metadata": {},
     "output_type": "execute_result"
    }
   ],
   "source": [
    "MoM = session2month.merge(cart2month, on=[\"dim_month\", \"dim_year\"])\n",
    "MoM"
   ]
  },
  {
   "cell_type": "markdown",
   "metadata": {},
   "source": [
    "Calculate the absolute and relative difference"
   ]
  },
  {
   "cell_type": "code",
   "execution_count": 7,
   "metadata": {},
   "outputs": [
    {
     "data": {
      "text/html": [
       "<div>\n",
       "<style scoped>\n",
       "    .dataframe tbody tr th:only-of-type {\n",
       "        vertical-align: middle;\n",
       "    }\n",
       "\n",
       "    .dataframe tbody tr th {\n",
       "        vertical-align: top;\n",
       "    }\n",
       "\n",
       "    .dataframe thead th {\n",
       "        text-align: right;\n",
       "    }\n",
       "</style>\n",
       "<table border=\"1\" class=\"dataframe\">\n",
       "  <thead>\n",
       "    <tr style=\"text-align: right;\">\n",
       "      <th></th>\n",
       "      <th>dim_month</th>\n",
       "      <th>dim_year</th>\n",
       "      <th>sessions</th>\n",
       "      <th>transactions</th>\n",
       "      <th>QTY</th>\n",
       "      <th>addsToCart</th>\n",
       "      <th>sessions_abs_diff</th>\n",
       "      <th>sessions_rel_diff</th>\n",
       "      <th>transactions_abs_diff</th>\n",
       "      <th>transactions_rel_diff</th>\n",
       "      <th>QTY_abs_diff</th>\n",
       "      <th>QTY_rel_diff</th>\n",
       "      <th>addsToCart_abs_diff</th>\n",
       "      <th>addsToCart_rel_diff</th>\n",
       "    </tr>\n",
       "  </thead>\n",
       "  <tbody>\n",
       "    <tr>\n",
       "      <th>0</th>\n",
       "      <td>5</td>\n",
       "      <td>2013</td>\n",
       "      <td>1164639</td>\n",
       "      <td>28389</td>\n",
       "      <td>51629</td>\n",
       "      <td>136720</td>\n",
       "      <td>NaN</td>\n",
       "      <td>NaN</td>\n",
       "      <td>NaN</td>\n",
       "      <td>NaN</td>\n",
       "      <td>NaN</td>\n",
       "      <td>NaN</td>\n",
       "      <td>NaN</td>\n",
       "      <td>NaN</td>\n",
       "    </tr>\n",
       "    <tr>\n",
       "      <th>1</th>\n",
       "      <td>6</td>\n",
       "      <td>2013</td>\n",
       "      <td>1388834</td>\n",
       "      <td>34538</td>\n",
       "      <td>61891</td>\n",
       "      <td>107970</td>\n",
       "      <td>224195.0</td>\n",
       "      <td>0.192502</td>\n",
       "      <td>6149.0</td>\n",
       "      <td>0.216598</td>\n",
       "      <td>10262.0</td>\n",
       "      <td>0.198764</td>\n",
       "      <td>-28750.0</td>\n",
       "      <td>-0.210284</td>\n",
       "    </tr>\n",
       "  </tbody>\n",
       "</table>\n",
       "</div>"
      ],
      "text/plain": [
       "   dim_month  dim_year  sessions  transactions    QTY  addsToCart  \\\n",
       "0          5      2013   1164639         28389  51629      136720   \n",
       "1          6      2013   1388834         34538  61891      107970   \n",
       "\n",
       "   sessions_abs_diff  sessions_rel_diff  transactions_abs_diff  \\\n",
       "0                NaN                NaN                    NaN   \n",
       "1           224195.0           0.192502                 6149.0   \n",
       "\n",
       "   transactions_rel_diff  QTY_abs_diff  QTY_rel_diff  addsToCart_abs_diff  \\\n",
       "0                    NaN           NaN           NaN                  NaN   \n",
       "1               0.216598       10262.0      0.198764             -28750.0   \n",
       "\n",
       "   addsToCart_rel_diff  \n",
       "0                  NaN  \n",
       "1            -0.210284  "
      ]
     },
     "execution_count": 7,
     "metadata": {},
     "output_type": "execute_result"
    }
   ],
   "source": [
    "for i in ['sessions', 'transactions', 'QTY', 'addsToCart']:\n",
    "    MoM[i+\"_abs_diff\"] = MoM[i].diff()\n",
    "    MoM[i+\"_rel_diff\"] = MoM[i].pct_change()\n",
    "MoM"
   ]
  },
  {
   "cell_type": "markdown",
   "metadata": {},
   "source": [
    "### To excel"
   ]
  },
  {
   "cell_type": "code",
   "execution_count": 8,
   "metadata": {},
   "outputs": [],
   "source": [
    "with pd.ExcelWriter('output.xlsx') as writer:  \n",
    "    month_device.to_excel(writer, sheet_name='month_device')\n",
    "    MoM.to_excel(writer, sheet_name='MoM')"
   ]
  },
  {
   "cell_type": "markdown",
   "metadata": {},
   "source": [
    "#### End of Coding Exercise"
   ]
  },
  {
   "cell_type": "markdown",
   "metadata": {},
   "source": [
    "#### Data For Visualization / Presentation"
   ]
  },
  {
   "cell_type": "code",
   "execution_count": 10,
   "metadata": {},
   "outputs": [],
   "source": [
    "merged = session.groupby([\"dim_year\", \"dim_month\"]).sum().merge(cart, on=[\"dim_month\", \"dim_year\"])\n",
    "for i in ['sessions', 'transactions', 'QTY', 'addsToCart']:\n",
    "    merged[i+\"_abs_diff\"] = merged[i].diff()\n",
    "    merged[i+\"_rel_diff\"] = merged[i].pct_change()\n",
    "merged.to_csv(\"session_cart.csv\", index=False)"
   ]
  },
  {
   "cell_type": "code",
   "execution_count": null,
   "metadata": {},
   "outputs": [],
   "source": []
  }
 ],
 "metadata": {
  "kernelspec": {
   "display_name": "Python 3.9.13 64-bit (microsoft store)",
   "language": "python",
   "name": "python3"
  },
  "language_info": {
   "codemirror_mode": {
    "name": "ipython",
    "version": 3
   },
   "file_extension": ".py",
   "mimetype": "text/x-python",
   "name": "python",
   "nbconvert_exporter": "python",
   "pygments_lexer": "ipython3",
   "version": "3.9.13"
  },
  "orig_nbformat": 4,
  "vscode": {
   "interpreter": {
    "hash": "12b9c3e23c63be7458e39d4a60fda3b3267e8dded08f8357d653b657a24de01f"
   }
  }
 },
 "nbformat": 4,
 "nbformat_minor": 2
}
